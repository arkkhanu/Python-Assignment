{
 "cells": [
  {
   "cell_type": "code",
   "execution_count": 1,
   "metadata": {},
   "outputs": [
    {
     "name": "stdout",
     "output_type": "stream",
     "text": [
      "Enter Operator (+,-,*,/,power) : /\n",
      "Enter No 1 : 6\n",
      "Enter No 1 : 4\n",
      "Ans : 1.5\n"
     ]
    }
   ],
   "source": [
    "op = input(\"Enter Operator (+,-,*,/,power) : \")\n",
    "no1 = int(input(\"Enter No 1 : \"))\n",
    "no2 = int(input(\"Enter No 1 : \"))\n",
    "if op == '+':\n",
    "    print(\"Ans :\", str(no1+no2))\n",
    "elif op == '-':\n",
    "    print(\"Ans :\", str(no1-no2))\n",
    "elif op == '*':\n",
    "    print(\"Ans :\", str(no1*no2))\n",
    "elif op == '/':\n",
    "    print(\"Ans :\", str(no1/no2))\n",
    "elif op == 'power':\n",
    "    print(\"Ans :\", str(no1**no2))\n",
    "else:\n",
    "    print(\"Wrong Input\")"
   ]
  },
  {
   "cell_type": "code",
   "execution_count": 2,
   "metadata": {},
   "outputs": [
    {
     "name": "stdout",
     "output_type": "stream",
     "text": [
      "Yes there is a numeric value.\n"
     ]
    }
   ],
   "source": [
    "check_input = False\n",
    "list1 = ('a','b',1,2,3,'c','d','e','4','5',0,6)\n",
    "for i in list1:\n",
    "    if type(i) == int:\n",
    "        check_input = True\n",
    "        break\n",
    "if check_input == True:\n",
    "    print(\"Yes there is a numeric value.\")\n",
    "else:\n",
    "    print(\"Sorry there is no any numeric value.\")"
   ]
  },
  {
   "cell_type": "code",
   "execution_count": 3,
   "metadata": {},
   "outputs": [
    {
     "name": "stdout",
     "output_type": "stream",
     "text": [
      "Enter a Key2\n",
      "Enter a Valuetwo\n",
      "{0: 'zero', 1: 'one', '2': 'two'}\n"
     ]
    }
   ],
   "source": [
    "dic1 = {0:\"zero\",1:\"one\"}\n",
    "dic1.update({(input(\"Enter a Key\")):(input(\"Enter a Value\"))})\n",
    "print(dic1)"
   ]
  },
  {
   "cell_type": "code",
   "execution_count": 4,
   "metadata": {},
   "outputs": [
    {
     "name": "stdout",
     "output_type": "stream",
     "text": [
      "dict_values([1, 2, 3, 'four', 5, 'six'])\n",
      "11\n"
     ]
    }
   ],
   "source": [
    "dic_2 = {'1':1,'2':2,'3':3,'4':'four','5':5,'6':'six'}\n",
    "sum = 0\n",
    "print(dic_2.values())\n",
    "for i in dic_2.values():\n",
    "    if type(i) == int:\n",
    "        sum += i\n",
    "print(sum)"
   ]
  },
  {
   "cell_type": "code",
   "execution_count": 5,
   "metadata": {},
   "outputs": [
    {
     "name": "stdout",
     "output_type": "stream",
     "text": [
      "These are the Duplicates :  ['a', 'b', 1, 2, 3, 'd']\n"
     ]
    }
   ],
   "source": [
    "list_1 = ('a','a','c',1,2,3,'b','d','b',1,2,3,4,'d')\n",
    "dup = set()\n",
    "had = []\n",
    "for i in list_1:\n",
    "    if i not in dup:\n",
    "        dup.add(i)\n",
    "    else:\n",
    "        had.append(i)\n",
    "print(\"These are the Duplicates : \", had)"
   ]
  },
  {
   "cell_type": "code",
   "execution_count": 6,
   "metadata": {},
   "outputs": [
    {
     "name": "stdout",
     "output_type": "stream",
     "text": [
      "Enter Key : 0\n",
      "Present\n"
     ]
    }
   ],
   "source": [
    "dic1 = {'0':'0',1:'one'}\n",
    "key = input(\"Enter Key : \")\n",
    "if key in dic1.keys():\n",
    "    print(\"Present\")\n",
    "else:\n",
    "    print(\"Not Present\")"
   ]
  },
  {
   "cell_type": "code",
   "execution_count": null,
   "metadata": {},
   "outputs": [],
   "source": []
  }
 ],
 "metadata": {
  "kernelspec": {
   "display_name": "Python 3",
   "language": "python",
   "name": "python3"
  },
  "language_info": {
   "codemirror_mode": {
    "name": "ipython",
    "version": 3
   },
   "file_extension": ".py",
   "mimetype": "text/x-python",
   "name": "python",
   "nbconvert_exporter": "python",
   "pygments_lexer": "ipython3",
   "version": "3.7.4"
  }
 },
 "nbformat": 4,
 "nbformat_minor": 2
}
