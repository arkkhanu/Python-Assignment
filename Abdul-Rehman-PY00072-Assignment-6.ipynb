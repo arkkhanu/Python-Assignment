{
 "cells": [
  {
   "cell_type": "code",
   "execution_count": 1,
   "metadata": {},
   "outputs": [
    {
     "name": "stdout",
     "output_type": "stream",
     "text": [
      "Object-oriented programming is a programming paradigm based on the concept of objects, \n",
      "which can contain data, in the form of fields, and code, in the form of procedures. \n",
      "A feature of objects is an object's procedures that can access and often modify the data fields of \n",
      "the object with which they are associated\n"
     ]
    }
   ],
   "source": [
    "print(\"\"\"Object-oriented programming is a programming paradigm based on the concept of objects, \n",
    "which can contain data, in the form of fields, and code, in the form of procedures. \n",
    "A feature of objects is an object's procedures that can access and often modify the data fields of \n",
    "the object with which they are associated\"\"\")"
   ]
  },
  {
   "cell_type": "code",
   "execution_count": 2,
   "metadata": {},
   "outputs": [
    {
     "name": "stdout",
     "output_type": "stream",
     "text": [
      "1 Reuse of code through inheritance\n",
      "2 Data Redundancy\n",
      "3 Security\n",
      "4 Flexibility through polymorphism\n",
      "5 Modularity for easier troubleshooting\n",
      "6 Effective problem solving\n"
     ]
    }
   ],
   "source": [
    "benefits = [\"Reuse of code through inheritance\",\"Data Redundancy\",\"Security\",\"Flexibility through polymorphism\"\n",
    "                     ,\"Modularity for easier troubleshooting\",\"Effective problem solving\"]\n",
    "for index,item in enumerate(benefits):\n",
    "    print(index+1,item)"
   ]
  },
  {
   "cell_type": "code",
   "execution_count": 3,
   "metadata": {},
   "outputs": [
    {
     "name": "stdout",
     "output_type": "stream",
     "text": [
      "\t\t\tFunction\n",
      "1. Function is block of code that is also called by its name. (independent)\n",
      "2. The function can have different parameters or may not have any at all. \n",
      "   If any data (parameters) are passed, they are passed explicitly.\n",
      "3. It may or may not return any data.\n",
      "4. Function does not deal with Class and its instance concept.\n",
      "\n",
      "\t\t\t Method\n",
      "1. Method is called by its name, but it is associated to an object (dependent).\n",
      "2. A method is implicitly passed the object on which it is invoked.\n",
      "3. It may or may not return any data.\n",
      "4. A method can operate on the data (instance variables) that is contained by the corresponding class\n"
     ]
    }
   ],
   "source": [
    "print(\"\"\"\\t\\t\\tFunction\n",
    "1. Function is block of code that is also called by its name. (independent)\n",
    "2. The function can have different parameters or may not have any at all. \n",
    "   If any data (parameters) are passed, they are passed explicitly.\n",
    "3. It may or may not return any data.\n",
    "4. Function does not deal with Class and its instance concept.\n",
    "\\n\\t\\t\\t Method\n",
    "1. Method is called by its name, but it is associated to an object (dependent).\n",
    "2. A method is implicitly passed the object on which it is invoked.\n",
    "3. It may or may not return any data.\n",
    "4. A method can operate on the data (instance variables) that is contained by the corresponding class\"\"\")"
   ]
  },
  {
   "cell_type": "code",
   "execution_count": 4,
   "metadata": {},
   "outputs": [
    {
     "name": "stdout",
     "output_type": "stream",
     "text": [
      "\t\t Class\n",
      "a class describes the contents of the objects that belong to it: \n",
      "it describes an aggregate of data fields (called instance variables), \n",
      "and defines the operations (called methods).\n",
      "\n",
      "\t\t Object\n",
      "an object is an element (or instance) of a class; objects have the behaviors of their class.\n",
      "\n",
      "\t\t Attribute\n",
      "An attribute is defined as a quality or characteristic of a person, place, or thing. \n",
      "In Programming Language specify the characteristic of a class\n",
      "\n",
      "\t\t Behavior\n",
      "Behavior is something like function which is calling by an instance of the class, It specify\n",
      "the outcome of that class\n"
     ]
    }
   ],
   "source": [
    "print(\"\"\"\\t\\t Class\n",
    "a class describes the contents of the objects that belong to it: \n",
    "it describes an aggregate of data fields (called instance variables), \n",
    "and defines the operations (called methods).\n",
    "\\n\\t\\t Object\n",
    "an object is an element (or instance) of a class; objects have the behaviors of their class.\n",
    "\\n\\t\\t Attribute\n",
    "An attribute is defined as a quality or characteristic of a person, place, or thing. \n",
    "In Programming Language specify the characteristic of a class\n",
    "\\n\\t\\t Behavior\n",
    "Behavior is something like function which is calling by an instance of the class, It specify\n",
    "the outcome of that class\"\"\")"
   ]
  },
  {
   "cell_type": "code",
   "execution_count": 5,
   "metadata": {},
   "outputs": [
    {
     "name": "stdout",
     "output_type": "stream",
     "text": [
      "Toyota Car Start...\n",
      "Toyota Car Moving...\n",
      "Toyota Car Stop...\n",
      "Honda Car Start...\n",
      "Honda Car Moving...\n",
      "Honda Car Stop...\n",
      "Suzuki Car Start...\n",
      "Suzuki Car Moving...\n",
      "Suzuki Car Stop...\n"
     ]
    }
   ],
   "source": [
    "class Car:\n",
    "    def __init__(self,name,model,color,engine,price):\n",
    "        self.name = name\n",
    "        self.model = model\n",
    "        self.color = color\n",
    "        self.engine = engine\n",
    "        self.price = price\n",
    "    def show_Info(self):\n",
    "        print(\"Name :\" ,self.name,\"\\nModel : \",self.model,\"\\nColor : \",self.color\n",
    "              ,\"\\nEngine : \",self.engine,\"\\nPrice : \",self.price)\n",
    "    def car_Break(self):\n",
    "        print(\"{0} Car Stop...\".format(self.name))\n",
    "    \n",
    "    def car_Start(self):\n",
    "        print(\"{0} Car Start...\".format(self.name))\n",
    "    \n",
    "    def car_Moving(self):\n",
    "        print(\"{0} Car Moving...\".format(self.name))\n",
    "\n",
    "car_1 = Car(\"Toyota\",\"Corolla\",\"Black\",\"1600 CC\" , 1800000)\n",
    "car_1.car_Start()\n",
    "car_1.car_Moving()\n",
    "car_1.car_Break()\n",
    "car_2 = Car(\"Honda\",\"City\",\"Gray\",\"1300 CC\" , 1800000)\n",
    "car_2.car_Start()\n",
    "car_2.car_Moving()\n",
    "car_2.car_Break()\n",
    "car_3 = Car(\"Suzuki\",\"Cultus\",\"White\",\"1000 CC\" , 1300000)\n",
    "car_3.car_Start()\n",
    "car_3.car_Moving()\n",
    "car_3.car_Break()"
   ]
  },
  {
   "cell_type": "code",
   "execution_count": null,
   "metadata": {},
   "outputs": [],
   "source": []
  }
 ],
 "metadata": {
  "kernelspec": {
   "display_name": "Python 3",
   "language": "python",
   "name": "python3"
  },
  "language_info": {
   "codemirror_mode": {
    "name": "ipython",
    "version": 3
   },
   "file_extension": ".py",
   "mimetype": "text/x-python",
   "name": "python",
   "nbconvert_exporter": "python",
   "pygments_lexer": "ipython3",
   "version": "3.7.4"
  }
 },
 "nbformat": 4,
 "nbformat_minor": 2
}
