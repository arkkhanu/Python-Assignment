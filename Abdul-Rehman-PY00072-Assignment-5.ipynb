{
 "cells": [
  {
   "cell_type": "code",
   "execution_count": 1,
   "metadata": {},
   "outputs": [
    {
     "name": "stdout",
     "output_type": "stream",
     "text": [
      "Enter No : 5\n"
     ]
    },
    {
     "data": {
      "text/plain": [
       "120"
      ]
     },
     "execution_count": 1,
     "metadata": {},
     "output_type": "execute_result"
    }
   ],
   "source": [
    "def cal_Fact(no):\n",
    "    if no>=1:\n",
    "        return no*cal_Fact(no-1)\n",
    "    else:\n",
    "        return 1\n",
    "no = int(input(\"Enter No : \"))\n",
    "cal_Fact(no)"
   ]
  },
  {
   "cell_type": "code",
   "execution_count": 2,
   "metadata": {},
   "outputs": [
    {
     "name": "stdout",
     "output_type": "stream",
     "text": [
      "Upper 6 \n",
      "Lower 30\n"
     ]
    }
   ],
   "source": [
    "word = \"Hello World,Welcome To Python Programming\"\n",
    "upper = 0\n",
    "lower = 0\n",
    "for i in word:\n",
    "    if i.isupper():\n",
    "        upper += 1\n",
    "    elif i.islower():\n",
    "        lower += 1\n",
    "print(\"Upper {} \\nLower {}\".format(upper,lower))"
   ]
  },
  {
   "cell_type": "code",
   "execution_count": 3,
   "metadata": {},
   "outputs": [
    {
     "name": "stdout",
     "output_type": "stream",
     "text": [
      "Odd  1\n",
      "Even  2\n",
      "Odd  3\n",
      "Even  4\n",
      "Odd  5\n",
      "Even  6\n",
      "Odd  7\n",
      "Even  8\n",
      "Odd  9\n",
      "Even  10\n"
     ]
    }
   ],
   "source": [
    "nos = [1,2,3,4,5,6,7,8,9,10]\n",
    "for i in nos:\n",
    "    if i% 2== 0:\n",
    "        print(\"Even \",i)\n",
    "    else:\n",
    "        print(\"Odd \",i)"
   ]
  },
  {
   "cell_type": "code",
   "execution_count": 1,
   "metadata": {},
   "outputs": [
    {
     "name": "stdout",
     "output_type": "stream",
     "text": [
      "Enter Word racecar\n",
      "Palindrome\n"
     ]
    }
   ],
   "source": [
    "def palindrome(word):\n",
    "    if word[::-1] == word:\n",
    "        return \"Palindrome\"\n",
    "    else:\n",
    "        return \"Not Palindrome\"\n",
    "print(palindrome(input(\"Enter Word \")))"
   ]
  },
  {
   "cell_type": "code",
   "execution_count": 2,
   "metadata": {},
   "outputs": [
    {
     "name": "stdout",
     "output_type": "stream",
     "text": [
      "Enter No 10\n",
      "Not Prime No\n"
     ]
    }
   ],
   "source": [
    "def prime(no):\n",
    "    for i in range(2,no):\n",
    "        if no%i == 0:\n",
    "            return \"Not Prime No\"\n",
    "            break\n",
    "        else:\n",
    "            return \"Prime\"\n",
    "\n",
    "print(prime(int(input(\"Enter No \"))))"
   ]
  },
  {
   "cell_type": "code",
   "execution_count": 3,
   "metadata": {},
   "outputs": [
    {
     "name": "stdout",
     "output_type": "stream",
     "text": [
      "Product No : 1 \t  : Clothes \n",
      "Product No : 2 \t  : Watch \n",
      "Product No : 3 \t  : Mobile \n",
      "Product No : 4 \t  : Laptop \n",
      "Product No : 5 \t  : Books \n",
      "Product No : 6 \t  : Gaming Accessories \n",
      "\n",
      "Bought Products \n",
      " {1: 'Clothes', 2: 'Watch', 3: 'Mobile', 5: 'Books', 4: 'Laptop'}\n"
     ]
    }
   ],
   "source": [
    "products = {1:\"Clothes\",2:\"Watch\",3:\"Mobile\",4:\"Laptop\",5:\"Books\",6:\"Gaming Accessories\"}\n",
    "order= {}\n",
    "for i,v in products.items():\n",
    "    print(\"Product No : {0} \\t  : {1} \".format(i,v))\n",
    "\n",
    "def ordertake(*no):\n",
    "    for i in no:\n",
    "        for j in products:\n",
    "            if i==j:\n",
    "                order[j]=products[j]\n",
    "                break\n",
    "            \n",
    "ordertake(1,2,3,5,4)\n",
    "print(\"\\nBought Products \\n\",order)"
   ]
  },
  {
   "cell_type": "code",
   "execution_count": null,
   "metadata": {},
   "outputs": [],
   "source": []
  }
 ],
 "metadata": {
  "kernelspec": {
   "display_name": "Python 3",
   "language": "python",
   "name": "python3"
  },
  "language_info": {
   "codemirror_mode": {
    "name": "ipython",
    "version": 3
   },
   "file_extension": ".py",
   "mimetype": "text/x-python",
   "name": "python",
   "nbconvert_exporter": "python",
   "pygments_lexer": "ipython3",
   "version": "3.7.4"
  }
 },
 "nbformat": 4,
 "nbformat_minor": 2
}
