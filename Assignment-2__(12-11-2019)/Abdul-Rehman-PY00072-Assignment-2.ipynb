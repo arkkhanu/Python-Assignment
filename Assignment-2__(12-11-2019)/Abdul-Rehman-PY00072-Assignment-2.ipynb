{
 "cells": [
  {
   "cell_type": "code",
   "execution_count": 1,
   "metadata": {},
   "outputs": [
    {
     "name": "stdout",
     "output_type": "stream",
     "text": [
      "Enter Subject 1 Marks : 58\n",
      "Enter Subject 2 Marks : 63\n",
      "Enter Subject 3 Marks : 78\n",
      "Enter Subject 4 Marks : 96\n",
      "Enter Subject 5 Marks : 46\n",
      "Subject 1 Marks = 58 / 100\n",
      "Subject 2 Marks = 63 / 100\n",
      "Subject 3 Marks = 78 / 100\n",
      "Subject 4 Marks = 96 / 100\n",
      "Subject 5 Marks = 46 / 100\n",
      "Total Marks = 341 / 500\n"
     ]
    }
   ],
   "source": [
    "totalmarks = 0\n",
    "marks = []\n",
    "for i in range(1, 6):\n",
    "    mark = int(input(\"Enter Subject \" + str(i) + \" Marks : \"))\n",
    "    totalmarks += mark\n",
    "    marks.append(mark)\n",
    "for i in range(0, 5):\n",
    "    print(\"Subject \" + str(i + 1) + \" Marks = \" + str(marks[i]) + \" / 100\")\n",
    "print(\"Total Marks = \" + str(totalmarks) + \" / 500\")"
   ]
  },
  {
   "cell_type": "code",
   "execution_count": 2,
   "metadata": {},
   "outputs": [
    {
     "name": "stdout",
     "output_type": "stream",
     "text": [
      "Enter No : 4\n",
      "Even\n"
     ]
    }
   ],
   "source": [
    "number = int(input(\"Enter No : \"))\n",
    "if number % 2 == 0:\n",
    "    print(\"Even\")\n",
    "else:\n",
    "    print(\"Odd\")"
   ]
  },
  {
   "cell_type": "code",
   "execution_count": 3,
   "metadata": {},
   "outputs": [
    {
     "name": "stdout",
     "output_type": "stream",
     "text": [
      "Length of List : 10\n"
     ]
    }
   ],
   "source": [
    "list_1 = [1, 2, 3, 4, 5, 6, 7, 8, 9, 10]\n",
    "print(\"Length of List : \" + str(len(list_1)))"
   ]
  },
  {
   "cell_type": "code",
   "execution_count": 4,
   "metadata": {},
   "outputs": [
    {
     "name": "stdout",
     "output_type": "stream",
     "text": [
      "55\n"
     ]
    }
   ],
   "source": [
    "sum = 0\n",
    "list_1 = [1, 2, 3, 4, 5, 6, 7, 8, 9, 10]\n",
    "for i in list_1:\n",
    "    sum += i\n",
    "print(sum)"
   ]
  },
  {
   "cell_type": "code",
   "execution_count": 5,
   "metadata": {},
   "outputs": [
    {
     "name": "stdout",
     "output_type": "stream",
     "text": [
      "69\n"
     ]
    }
   ],
   "source": [
    "list_1 = [54, 2, 3, -4, 5, 69, 7, 8, 9, 10]\n",
    "print(max(list_1))"
   ]
  },
  {
   "cell_type": "code",
   "execution_count": 6,
   "metadata": {},
   "outputs": [
    {
     "name": "stdout",
     "output_type": "stream",
     "text": [
      "1\n",
      "1\n",
      "2\n",
      "3\n"
     ]
    }
   ],
   "source": [
    "list_1 = [1, 1, 2, 3, 5, 8, 13, 21, 34, 55, 89]\n",
    "for i in list_1:\n",
    "    if i < 5:\n",
    "        print(i)"
   ]
  },
  {
   "cell_type": "code",
   "execution_count": null,
   "metadata": {},
   "outputs": [],
   "source": []
  }
 ],
 "metadata": {
  "kernelspec": {
   "display_name": "Python 3",
   "language": "python",
   "name": "python3"
  },
  "language_info": {
   "codemirror_mode": {
    "name": "ipython",
    "version": 3
   },
   "file_extension": ".py",
   "mimetype": "text/x-python",
   "name": "python",
   "nbconvert_exporter": "python",
   "pygments_lexer": "ipython3",
   "version": "3.7.4"
  }
 },
 "nbformat": 4,
 "nbformat_minor": 2
}
