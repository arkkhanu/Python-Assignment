{
 "cells": [
  {
   "cell_type": "code",
   "execution_count": 1,
   "metadata": {},
   "outputs": [
    {
     "name": "stdout",
     "output_type": "stream",
     "text": [
      "Enter First Name : Abdul\n",
      "Enter Last Name : Rehman\n",
      "Enter AGE : 21\n",
      "Enter City Name : Karachi\n",
      "{'first_name': 'Abdul', 'last_name': 'Rehman', 'age': 21, 'city': 'Karachi'}\n",
      "After Updating and Deletion\n",
      " {'first_name': 'Abdul', 'last_name': 'Rehman', 'age': 21, 'city': 'Karachi', 'qualification': 'High Academic'}\n",
      "{'first_name': 'Abdul', 'last_name': 'Rehman', 'age': 21, 'city': 'Karachi'}\n"
     ]
    }
   ],
   "source": [
    "fname = input(\"Enter First Name : \")\n",
    "lname = input(\"Enter Last Name : \")\n",
    "age = int(input(\"Enter AGE : \"))\n",
    "city = input(\"Enter City Name : \")\n",
    "person={'first_name':fname,'last_name':lname,'age':age,'city':city}\n",
    "print(person)\n",
    "person.update({'qualification':'qualification'})\n",
    "person['qualification'] = 'High Academic'\n",
    "print(\"After Updating and Deletion\\n\",person)\n",
    "del person['qualification']\n",
    "print(person)"
   ]
  },
  {
   "cell_type": "code",
   "execution_count": 2,
   "metadata": {},
   "outputs": [
    {
     "name": "stdout",
     "output_type": "stream",
     "text": [
      "City :  karachi \n",
      "Contry :  Pakistan \n",
      "Population 15.40 million (2018) \n",
      "Fact Karachi is best known for being the business hub of Pakistan and one of the most densely populated cities in the world \n",
      "\n",
      "City :  new_york \n",
      "Contry :  USA \n",
      "Population 19.54 million (2018) \n",
      "Fact New York City is made up of five boroughs: Manhattan, The Bronx, Queens, Brooklyn, and Staten Island. \n",
      "\n",
      "City :  london \n",
      "Contry :  UK \n",
      "Population 8.9 million (2018) \n",
      "Fact It is not illegal to die in the Houses of Parliament. \n",
      "\n"
     ]
    }
   ],
   "source": [
    "cities={'karachi':\n",
    "        {'country':'Pakistan'\n",
    "         ,'population':'15.40 million (2018)'\n",
    "         ,'fact':'Karachi is best known for being the business hub of\\\n",
    " Pakistan and one of the most densely populated cities in the world'}\n",
    "        ,'new_york':\n",
    "        {'country':'USA'\n",
    "         ,'population':'19.54 million (2018)'\n",
    "         ,'fact':'New York City is made up of five boroughs: Manhattan, The Bronx, Queens, Brooklyn, and Staten Island.'}\n",
    "        ,'london':\n",
    "        {'country':'UK'\n",
    "         ,'population':'8.9 million (2018)'\n",
    "         ,'fact':'It is not illegal to die in the Houses of Parliament.'}\n",
    "       }\n",
    "for city,info in cities.items():\n",
    "    print(\"City : \", city,\"\\nContry : \", info['country'],\"\\nPopulation\",info['population'],\"\\nFact\",info['fact'],\"\\n\")"
   ]
  },
  {
   "cell_type": "code",
   "execution_count": 3,
   "metadata": {},
   "outputs": [
    {
     "name": "stdout",
     "output_type": "stream",
     "text": [
      "Enter Age11\n",
      "Your Ticket PRICE Rs:  10\n"
     ]
    }
   ],
   "source": [
    "age = int(input(\"Enter Age\"))\n",
    "ticket = 0\n",
    "if 0<age<=3:\n",
    "    ticket=0\n",
    "elif 3<age<=12:\n",
    "    ticket=10\n",
    "else:\n",
    "    ticket = 15\n",
    "print(\"Your Ticket PRICE Rs: \",ticket)"
   ]
  },
  {
   "cell_type": "code",
   "execution_count": 4,
   "metadata": {},
   "outputs": [
    {
     "name": "stdout",
     "output_type": "stream",
     "text": [
      "Enter Book TitleAlice in Wonderland\n",
      "One of My Favorite Book is Alice in Wonderland.\n"
     ]
    }
   ],
   "source": [
    "def favorite_book(title):\n",
    "    return \"One of My Favorite Book is \"+title+\".\"\n",
    "print(favorite_book(input(\"Enter Book Title\")))"
   ]
  },
  {
   "cell_type": "code",
   "execution_count": 5,
   "metadata": {},
   "outputs": [
    {
     "name": "stdout",
     "output_type": "stream",
     "text": [
      "Enter No : 12\n",
      "3\n",
      "Hint : Number Should be Smaller\n",
      "Enter No : 2\n",
      "Hint : Number Should be Larger\n",
      "Enter No : 4\n",
      "Sorry You Loss\n"
     ]
    }
   ],
   "source": [
    "import random\n",
    "no = int(input(\"Enter No : \"))\n",
    "rand = random.randint(1,30)\n",
    "print(rand)\n",
    "if no == rand:\n",
    "    print(\"Congrats, You Win\")\n",
    "else:\n",
    "    hint = \"Hint : Number Should be Smaller\" if rand <  no   else \"Hint : Number Should be Larger\"\n",
    "    no = int(input(hint+\"\\nEnter No : \"))\n",
    "    if no == rand:\n",
    "        print(\"Congrats, You Win\")\n",
    "    else:\n",
    "        hint = \"Hint : Number Should be Smaller\" if rand < no   else \"Hint : Number Should be Larger\"\n",
    "        no = int(input(hint+\"\\nEnter No : \"))\n",
    "        if no == rand:\n",
    "            print(\"Congrats, You Win\")\n",
    "        else:\n",
    "            print(\"Sorry You Loss\")"
   ]
  },
  {
   "cell_type": "code",
   "execution_count": null,
   "metadata": {},
   "outputs": [],
   "source": []
  }
 ],
 "metadata": {
  "kernelspec": {
   "display_name": "Python 3",
   "language": "python",
   "name": "python3"
  },
  "language_info": {
   "codemirror_mode": {
    "name": "ipython",
    "version": 3
   },
   "file_extension": ".py",
   "mimetype": "text/x-python",
   "name": "python",
   "nbconvert_exporter": "python",
   "pygments_lexer": "ipython3",
   "version": "3.7.4"
  }
 },
 "nbformat": 4,
 "nbformat_minor": 2
}
